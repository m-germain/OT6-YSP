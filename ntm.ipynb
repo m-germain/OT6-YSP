{
 "cells": [
  {
   "cell_type": "code",
   "execution_count": 39,
   "metadata": {},
   "outputs": [],
   "source": [
    "import numpy as np \n",
    "import pandas as pd \n",
    "import gmaps \n",
    "from vincenty import vincenty as vc\n",
    "from tqdm.notebook import tqdm\n",
    "from query_heatmap import QueryHeatMap"
   ]
  },
  {
   "cell_type": "code",
   "execution_count": 40,
   "metadata": {},
   "outputs": [],
   "source": [
    "# Params\n",
    "number_of_cells = 100\n",
    "rows=1000000\n",
    "dist_cells = 0.1"
   ]
  },
  {
   "cell_type": "code",
   "execution_count": 41,
   "metadata": {},
   "outputs": [
    {
     "data": {
      "text/plain": [
       "(0.0012902203791469195, 0.0009007393364929005)"
      ]
     },
     "execution_count": 41,
     "metadata": {},
     "output_type": "execute_result"
    }
   ],
   "source": [
    "#Lyon Map Coordinates\n",
    "\n",
    "# MAX Point\n",
    "meximiax_lat = 45.904791\n",
    "meximiax_long = 5.186973\n",
    "\n",
    "# Min Point\n",
    "granger_lat = 45.524679\n",
    "granger_long = 4.642500\n",
    "\n",
    "\n",
    "dist_lat = vc((meximiax_lat,meximiax_long),(granger_lat,meximiax_long))\n",
    "dist_long = vc((meximiax_lat,meximiax_long),(meximiax_lat,granger_long))\n",
    "\"\"\"\n",
    "+-----------+\n",
    "|           |\n",
    "|           |\n",
    "|           |\n",
    "|           |\n",
    "+-----------+\n",
    "\"\"\"\n",
    "number_of_long_cells = round(dist_long / dist_cells)\n",
    "number_of_lat_cells  = round(dist_lat / dist_cells)\n",
    "\n",
    "\n",
    "long_cell_size = (meximiax_long - granger_long)/number_of_long_cells\n",
    "lat_cell_size = (meximiax_lat - granger_lat)/number_of_lat_cells\n",
    "\n",
    "LONG_CELLS = np.arange(granger_long, meximiax_long, long_cell_size)\n",
    "LAT_CELLS = np.arange(granger_lat, meximiax_lat, lat_cell_size) \n",
    "long_cell_size, lat_cell_size\n",
    "\n",
    "\n"
   ]
  },
  {
   "cell_type": "code",
   "execution_count": 42,
   "metadata": {},
   "outputs": [],
   "source": [
    "def filter_rows(row, minLat, minLong, maxLat, maxLong) :\n",
    "    return ( (minLat<row['lat']) & (maxLat>row['lat']) & (minLong<row['long']) & (maxLong>row['long']))    "
   ]
  },
  {
   "cell_type": "code",
   "execution_count": 43,
   "metadata": {},
   "outputs": [],
   "source": [
    "# We cut the csv in small chunks\n",
    "iter_csv = pd.read_csv(\"./privamov/privamov-gps\",\n",
    "                   sep='\\t',\n",
    "                   names=['id','timestamp','long','lat'],\n",
    "                   header = None,\n",
    "                   infer_datetime_format= True,\n",
    "                   iterator=True,\n",
    "                   chunksize=1000)"
   ]
  },
  {
   "cell_type": "code",
   "execution_count": null,
   "metadata": {},
   "outputs": [
    {
     "data": {
      "application/vnd.jupyter.widget-view+json": {
       "model_id": "4a4f5f5129e7404ab401f4951acefe8f",
       "version_major": 2,
       "version_minor": 0
      },
      "text/plain": [
       "HBox(children=(HTML(value=''), FloatProgress(value=1.0, bar_style='info', layout=Layout(width='20px'), max=1.0…"
      ]
     },
     "metadata": {},
     "output_type": "display_data"
    }
   ],
   "source": [
    "# Here we load the chunks and filter the dataset before loading in pandas\n",
    "minLat = min(meximiax_lat, granger_lat)\n",
    "minLong = min(meximiax_long,granger_long)\n",
    "maxLat = max(meximiax_lat,granger_lat)\n",
    "maxLong  = max(meximiax_long, granger_long)\n",
    "data = pd.concat([chunk[filter_rows(chunk, minLat, minLong, maxLat, maxLong)] for chunk in  tqdm(iter_csv)])"
   ]
  },
  {
   "cell_type": "code",
   "execution_count": 33,
   "metadata": {},
   "outputs": [],
   "source": [
    "from typing import List\n",
    "printemps_week_day = []\n",
    "printemps_week_night = [] \n",
    "printemps_wend_night = []\n",
    "printemps_wend_day = []\n",
    "ete_week_day = []\n",
    "ete_week_night = []\n",
    "ete_wend_day = []\n",
    "ete_wend_night = []\n",
    "automne_week_day = []\n",
    "automne_week_night = []\n",
    "automne_wend_day = []\n",
    "automne_wend_night = []\n",
    "hiver_week_day = []\n",
    "hiver_week_night = []\n",
    "hiver_wend_day = []\n",
    "hiver_wend_night = []\n",
    "\n",
    "def add_to_correct_list(index,night: bool,week: bool,season: int):\n",
    "    if season == 1: \n",
    "        if week: \n",
    "            if night:\n",
    "                printemps_week_day.append(index)\n",
    "            else:\n",
    "                printemps_week_night.append(index)\n",
    "        else: \n",
    "            if night:\n",
    "                printemps_wend_day.append(index)\n",
    "            else:\n",
    "                printemps_wend_night.append(index)\n",
    "    elif season == 2: \n",
    "        if week: \n",
    "            if night:\n",
    "                ete_week_day.append(index)\n",
    "            else:\n",
    "                ete_week_night.append(index)\n",
    "        else: \n",
    "            if night:\n",
    "                ete_wend_day.append(index)\n",
    "            else:\n",
    "                ete_wend_night.append(index)\n",
    "    elif season == 3:\n",
    "        if week: \n",
    "            if night:\n",
    "                automne_week_day.append(index)\n",
    "            else:\n",
    "                automne_week_night.append(index)\n",
    "        else: \n",
    "            if night:\n",
    "                automne_wend_day.append(index)\n",
    "            else:\n",
    "                automne_wend_night.append(index)\n",
    "    elif season == 4: \n",
    "        if week: \n",
    "            if night:\n",
    "                hiver_week_day.append(index)\n",
    "            else:\n",
    "                hiver_week_night.append(index)\n",
    "        else: \n",
    "            if night:\n",
    "                hiver_wend_day.append(index)\n",
    "            else:\n",
    "                hiver_wend_night.append(index)"
   ]
  },
  {
   "cell_type": "code",
   "execution_count": 34,
   "metadata": {},
   "outputs": [
    {
     "data": {
      "text/html": [
       "<div>\n",
       "<style scoped>\n",
       "    .dataframe tbody tr th:only-of-type {\n",
       "        vertical-align: middle;\n",
       "    }\n",
       "\n",
       "    .dataframe tbody tr th {\n",
       "        vertical-align: top;\n",
       "    }\n",
       "\n",
       "    .dataframe thead th {\n",
       "        text-align: right;\n",
       "    }\n",
       "</style>\n",
       "<table border=\"1\" class=\"dataframe\">\n",
       "  <thead>\n",
       "    <tr style=\"text-align: right;\">\n",
       "      <th></th>\n",
       "      <th>id</th>\n",
       "      <th>timestamp</th>\n",
       "      <th>long</th>\n",
       "      <th>lat</th>\n",
       "    </tr>\n",
       "  </thead>\n",
       "  <tbody>\n",
       "    <tr>\n",
       "      <th>160803</th>\n",
       "      <td>1</td>\n",
       "      <td>2014-10-07 12:30:19.611</td>\n",
       "      <td>4.869205</td>\n",
       "      <td>45.770287</td>\n",
       "    </tr>\n",
       "    <tr>\n",
       "      <th>160804</th>\n",
       "      <td>1</td>\n",
       "      <td>2014-10-08 07:14:04.115</td>\n",
       "      <td>4.869438</td>\n",
       "      <td>45.772273</td>\n",
       "    </tr>\n",
       "    <tr>\n",
       "      <th>160805</th>\n",
       "      <td>1</td>\n",
       "      <td>2014-10-08 07:14:04.135</td>\n",
       "      <td>4.869438</td>\n",
       "      <td>45.772273</td>\n",
       "    </tr>\n",
       "    <tr>\n",
       "      <th>160806</th>\n",
       "      <td>1</td>\n",
       "      <td>2014-10-08 07:14:05.105</td>\n",
       "      <td>4.869597</td>\n",
       "      <td>45.772993</td>\n",
       "    </tr>\n",
       "    <tr>\n",
       "      <th>160807</th>\n",
       "      <td>1</td>\n",
       "      <td>2014-10-08 07:14:05.124</td>\n",
       "      <td>4.869597</td>\n",
       "      <td>45.772993</td>\n",
       "    </tr>\n",
       "    <tr>\n",
       "      <th>...</th>\n",
       "      <td>...</td>\n",
       "      <td>...</td>\n",
       "      <td>...</td>\n",
       "      <td>...</td>\n",
       "    </tr>\n",
       "    <tr>\n",
       "      <th>996980</th>\n",
       "      <td>8</td>\n",
       "      <td>2014-11-28 04:55:56.683</td>\n",
       "      <td>5.079448</td>\n",
       "      <td>45.716740</td>\n",
       "    </tr>\n",
       "    <tr>\n",
       "      <th>996983</th>\n",
       "      <td>8</td>\n",
       "      <td>2014-11-28 04:55:57.651</td>\n",
       "      <td>5.079447</td>\n",
       "      <td>45.716748</td>\n",
       "    </tr>\n",
       "    <tr>\n",
       "      <th>996984</th>\n",
       "      <td>8</td>\n",
       "      <td>2014-11-28 04:55:57.664</td>\n",
       "      <td>5.079447</td>\n",
       "      <td>45.716748</td>\n",
       "    </tr>\n",
       "    <tr>\n",
       "      <th>996987</th>\n",
       "      <td>8</td>\n",
       "      <td>2014-11-28 04:55:58.654</td>\n",
       "      <td>5.079447</td>\n",
       "      <td>45.716758</td>\n",
       "    </tr>\n",
       "    <tr>\n",
       "      <th>996988</th>\n",
       "      <td>8</td>\n",
       "      <td>2014-11-28 04:55:58.665</td>\n",
       "      <td>5.079447</td>\n",
       "      <td>45.716758</td>\n",
       "    </tr>\n",
       "  </tbody>\n",
       "</table>\n",
       "<p>398440 rows × 4 columns</p>\n",
       "</div>"
      ],
      "text/plain": [
       "        id                timestamp      long        lat\n",
       "160803   1  2014-10-07 12:30:19.611  4.869205  45.770287\n",
       "160804   1  2014-10-08 07:14:04.115  4.869438  45.772273\n",
       "160805   1  2014-10-08 07:14:04.135  4.869438  45.772273\n",
       "160806   1  2014-10-08 07:14:05.105  4.869597  45.772993\n",
       "160807   1  2014-10-08 07:14:05.124  4.869597  45.772993\n",
       "...     ..                      ...       ...        ...\n",
       "996980   8  2014-11-28 04:55:56.683  5.079448  45.716740\n",
       "996983   8  2014-11-28 04:55:57.651  5.079447  45.716748\n",
       "996984   8  2014-11-28 04:55:57.664  5.079447  45.716748\n",
       "996987   8  2014-11-28 04:55:58.654  5.079447  45.716758\n",
       "996988   8  2014-11-28 04:55:58.665  5.079447  45.716758\n",
       "\n",
       "[398440 rows x 4 columns]"
      ]
     },
     "execution_count": 34,
     "metadata": {},
     "output_type": "execute_result"
    }
   ],
   "source": [
    "data"
   ]
  },
  {
   "cell_type": "code",
   "execution_count": 35,
   "metadata": {},
   "outputs": [
    {
     "data": {
      "application/vnd.jupyter.widget-view+json": {
       "model_id": "7dda87b4882c4c4cbffa161a93dc227d",
       "version_major": 2,
       "version_minor": 0
      },
      "text/plain": [
       "HBox(children=(HTML(value=''), FloatProgress(value=1.0, bar_style='info', layout=Layout(width='20px'), max=1.0…"
      ]
     },
     "metadata": {},
     "output_type": "display_data"
    },
    {
     "name": "stdout",
     "output_type": "stream",
     "text": [
      "\n"
     ]
    }
   ],
   "source": [
    "i = 0\n",
    "for index, row in  tqdm(data.iterrows()): \n",
    "    date = pd.to_datetime(row[\"timestamp\"], yearfirst=True).to_pydatetime()\n",
    "    if (False): \n",
    "        pass \n",
    "    else: \n",
    "        night = False\n",
    "        week = False\n",
    "        season = 1\n",
    "        if (date.hour) > 18: \n",
    "            night = True\n",
    "        # week-end\n",
    "        if (date.day > 5):\n",
    "            week = True\n",
    "        # Season    \n",
    "        month = date.month\n",
    "        if (month < 3): \n",
    "            season = 1\n",
    "        elif (month < 6): \n",
    "            season = 2\n",
    "        elif (month < 9):\n",
    "            season =3 \n",
    "        else: \n",
    "            season = 4 \n",
    "            \n",
    "    add_to_correct_list(i,night,week,season)\n",
    "    i += 1"
   ]
  },
  {
   "cell_type": "code",
   "execution_count": 36,
   "metadata": {},
   "outputs": [],
   "source": [
    "to_file = { \n",
    "\"printemps/week/day/\" : printemps_week_day ,\n",
    "\"printemps/week/night/\" : printemps_week_night ,\n",
    "\"printemps/wend/night/\" : printemps_wend_night ,\n",
    "\"printemps/wend/day/\" : printemps_wend_day ,\n",
    "\"ete/week/day/\" : ete_week_day ,\n",
    "\"ete/week/night/\" : ete_week_night ,\n",
    "\"ete/wend/day/\" : ete_wend_day ,\n",
    "\"ete/wend/night/\" : ete_wend_night ,\n",
    "\"automne/week/day/\" : automne_week_day ,\n",
    "\"automne/week/night/\" : automne_week_night ,\n",
    "\"automne/wend/day/\" : automne_wend_day ,\n",
    "\"automne/wend/night/\" : automne_wend_night ,\n",
    "\"hiver/week/day/\" : hiver_week_day ,\n",
    "\"hiver/week/night/\" : hiver_week_night ,\n",
    "\"hiver/wend/day/\" : hiver_wend_day ,\n",
    "\"hiver/wend/night/\" : hiver_wend_night ,\n",
    "}"
   ]
  },
  {
   "cell_type": "code",
   "execution_count": 37,
   "metadata": {},
   "outputs": [],
   "source": [
    "def generate_heat_map(indices: List, data):\n",
    "    \"\"\"Generates a heat_map for a given list of indices of data.\n",
    "\n",
    "    ----------\n",
    "    indices : List\n",
    "        indices of df to add to heatmap \n",
    "    data: pd.Dataframe \n",
    "        dataframe storing gps values\n",
    "    \"\"\"\n",
    "    # We create an array of 0s of number_of_cells x number_of_cells to store the ppl mouves.\n",
    "    ppl_counts = np.zeros((number_of_long_cells,number_of_lat_cells)) \n",
    "    for index in tqdm(indices):\n",
    "        lat = data['lat'].iloc[index]\n",
    "        lng =  data['long'].iloc[index] \n",
    "        for lat_index,lat_cell in enumerate(LAT_CELLS):\n",
    "            if (lat_cell- lat_cell_size <= lat and lat < lat_cell+ lat_cell_size):\n",
    "                for long_index,long_cell in enumerate(LONG_CELLS):\n",
    "                    if (long_cell - long_cell_size <= lng and lng < long_cell + long_cell_size):\n",
    "                        ppl_counts[lat_index,long_index] += 1\n",
    "    return ppl_counts"
   ]
  },
  {
   "cell_type": "code",
   "execution_count": 38,
   "metadata": {},
   "outputs": [
    {
     "data": {
      "application/vnd.jupyter.widget-view+json": {
       "model_id": "3fd91d11c2d240269e781ed3ad680db3",
       "version_major": 2,
       "version_minor": 0
      },
      "text/plain": [
       "HBox(children=(HTML(value=''), FloatProgress(value=0.0, max=71353.0), HTML(value='')))"
      ]
     },
     "metadata": {},
     "output_type": "display_data"
    },
    {
     "name": "stdout",
     "output_type": "stream",
     "text": [
      "\n"
     ]
    },
    {
     "data": {
      "application/vnd.jupyter.widget-view+json": {
       "model_id": "cfb8009cb67d4cc2a37517ee07678bdb",
       "version_major": 2,
       "version_minor": 0
      },
      "text/plain": [
       "HBox(children=(HTML(value=''), FloatProgress(value=0.0, max=327087.0), HTML(value='')))"
      ]
     },
     "metadata": {},
     "output_type": "display_data"
    },
    {
     "name": "stdout",
     "output_type": "stream",
     "text": [
      "\n"
     ]
    },
    {
     "ename": "KeyboardInterrupt",
     "evalue": "",
     "output_type": "error",
     "traceback": [
      "\u001b[0;31m---------------------------------------------------------------------------\u001b[0m",
      "\u001b[0;31mKeyboardInterrupt\u001b[0m                         Traceback (most recent call last)",
      "\u001b[0;32m<ipython-input-38-3c250852cbc5>\u001b[0m in \u001b[0;36m<module>\u001b[0;34m\u001b[0m\n\u001b[1;32m      3\u001b[0m     \u001b[0mos\u001b[0m\u001b[0;34m.\u001b[0m\u001b[0mmakedirs\u001b[0m\u001b[0;34m(\u001b[0m\u001b[0mfilename\u001b[0m\u001b[0;34m,\u001b[0m \u001b[0mexist_ok\u001b[0m \u001b[0;34m=\u001b[0m \u001b[0;32mTrue\u001b[0m\u001b[0;34m)\u001b[0m\u001b[0;34m\u001b[0m\u001b[0;34m\u001b[0m\u001b[0m\n\u001b[1;32m      4\u001b[0m     \u001b[0;32mif\u001b[0m \u001b[0mlen\u001b[0m\u001b[0;34m(\u001b[0m\u001b[0mindices\u001b[0m\u001b[0;34m)\u001b[0m\u001b[0;34m:\u001b[0m\u001b[0;34m\u001b[0m\u001b[0;34m\u001b[0m\u001b[0m\n\u001b[0;32m----> 5\u001b[0;31m         \u001b[0mppl_counts\u001b[0m \u001b[0;34m=\u001b[0m \u001b[0mgenerate_heat_map\u001b[0m\u001b[0;34m(\u001b[0m\u001b[0mindices\u001b[0m\u001b[0;34m,\u001b[0m\u001b[0mdata\u001b[0m\u001b[0;34m)\u001b[0m\u001b[0;34m\u001b[0m\u001b[0;34m\u001b[0m\u001b[0m\n\u001b[0m\u001b[1;32m      6\u001b[0m         \u001b[0mnp\u001b[0m\u001b[0;34m.\u001b[0m\u001b[0msave\u001b[0m\u001b[0;34m(\u001b[0m\u001b[0;34mf\"{filename}data.npy\"\u001b[0m\u001b[0;34m,\u001b[0m \u001b[0mppl_counts\u001b[0m\u001b[0;34m)\u001b[0m\u001b[0;34m\u001b[0m\u001b[0;34m\u001b[0m\u001b[0m\n",
      "\u001b[0;32m<ipython-input-37-a2bf6d08d977>\u001b[0m in \u001b[0;36mgenerate_heat_map\u001b[0;34m(indices, data)\u001b[0m\n\u001b[1;32m     16\u001b[0m             \u001b[0;32mif\u001b[0m \u001b[0;34m(\u001b[0m\u001b[0mlat_cell\u001b[0m\u001b[0;34m-\u001b[0m \u001b[0mlat_cell_size\u001b[0m \u001b[0;34m<=\u001b[0m \u001b[0mlat\u001b[0m \u001b[0;32mand\u001b[0m \u001b[0mlat\u001b[0m \u001b[0;34m<\u001b[0m \u001b[0mlat_cell\u001b[0m\u001b[0;34m+\u001b[0m \u001b[0mlat_cell_size\u001b[0m\u001b[0;34m)\u001b[0m\u001b[0;34m:\u001b[0m\u001b[0;34m\u001b[0m\u001b[0;34m\u001b[0m\u001b[0m\n\u001b[1;32m     17\u001b[0m                 \u001b[0;32mfor\u001b[0m \u001b[0mlong_index\u001b[0m\u001b[0;34m,\u001b[0m\u001b[0mlong_cell\u001b[0m \u001b[0;32min\u001b[0m \u001b[0menumerate\u001b[0m\u001b[0;34m(\u001b[0m\u001b[0mLONG_CELLS\u001b[0m\u001b[0;34m)\u001b[0m\u001b[0;34m:\u001b[0m\u001b[0;34m\u001b[0m\u001b[0;34m\u001b[0m\u001b[0m\n\u001b[0;32m---> 18\u001b[0;31m                     \u001b[0;32mif\u001b[0m \u001b[0;34m(\u001b[0m\u001b[0mlong_cell\u001b[0m \u001b[0;34m-\u001b[0m \u001b[0mlong_cell_size\u001b[0m \u001b[0;34m<=\u001b[0m \u001b[0mlng\u001b[0m \u001b[0;32mand\u001b[0m \u001b[0mlng\u001b[0m \u001b[0;34m<\u001b[0m \u001b[0mlong_cell\u001b[0m \u001b[0;34m+\u001b[0m \u001b[0mlong_cell_size\u001b[0m\u001b[0;34m)\u001b[0m\u001b[0;34m:\u001b[0m\u001b[0;34m\u001b[0m\u001b[0;34m\u001b[0m\u001b[0m\n\u001b[0m\u001b[1;32m     19\u001b[0m                         \u001b[0mppl_counts\u001b[0m\u001b[0;34m[\u001b[0m\u001b[0mlat_index\u001b[0m\u001b[0;34m,\u001b[0m\u001b[0mlong_index\u001b[0m\u001b[0;34m]\u001b[0m \u001b[0;34m+=\u001b[0m \u001b[0;36m1\u001b[0m\u001b[0;34m\u001b[0m\u001b[0;34m\u001b[0m\u001b[0m\n\u001b[1;32m     20\u001b[0m     \u001b[0;32mreturn\u001b[0m \u001b[0mppl_counts\u001b[0m\u001b[0;34m\u001b[0m\u001b[0;34m\u001b[0m\u001b[0m\n",
      "\u001b[0;31mKeyboardInterrupt\u001b[0m: "
     ]
    }
   ],
   "source": [
    "import os\n",
    "for filename, indices in to_file.items(): \n",
    "    os.makedirs(filename, exist_ok = True)\n",
    "    if len(indices):\n",
    "        print(f\"Processing: {filename}\")\n",
    "        ppl_counts = generate_heat_map(indices,data)\n",
    "        np.save(f\"{filename}data.npy\", ppl_counts)"
   ]
  },
  {
   "cell_type": "code",
   "execution_count": null,
   "metadata": {},
   "outputs": [],
   "source": []
  }
 ],
 "metadata": {
  "kernelspec": {
   "display_name": "Python 3",
   "language": "python",
   "name": "python3"
  },
  "language_info": {
   "codemirror_mode": {
    "name": "ipython",
    "version": 3
   },
   "file_extension": ".py",
   "mimetype": "text/x-python",
   "name": "python",
   "nbconvert_exporter": "python",
   "pygments_lexer": "ipython3",
   "version": "3.7.9"
  }
 },
 "nbformat": 4,
 "nbformat_minor": 4
}
